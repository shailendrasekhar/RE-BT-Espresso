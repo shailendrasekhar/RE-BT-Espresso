{
 "cells": [
  {
   "cell_type": "code",
   "execution_count": 1,
   "id": "8ec4a577",
   "metadata": {},
   "outputs": [],
   "source": [
    "import pandas as pd\n",
    "import seaborn as sns\n",
    "import glob, os\n",
    "import re\n",
    "import numpy as np\n",
    "import matplotlib.pyplot as plt\n",
    "%matplotlib inline"
   ]
  },
  {
   "cell_type": "markdown",
   "id": "6f83437c",
   "metadata": {},
   "source": [
    "# Notes about DF\n",
    "- `is_generated` : (bool) is the simulated tree, note when false, GED is just a single 0, not a dict\n",
    "- `is_original_bt_espresso` : (bool) run with kevin's algo\n",
    "- `num_unique_nodes` : (int) number of unique node types within the tree\n",
    "- `total_nodes` : (int) total number of nodes within the generated tree\n",
    "- `num_sub_trees` : (int) total number of sub trees within the generated tree\n",
    "- `unique_node_freq` : (dict<string, int>) dictionary of unique node to how many in the tree\n",
    "- `graph_edit_distance` : (Series[dict<string,Obj>]) series of scores for each sim tree\n",
    "- GED Example:\n",
    "```python\n",
    "\"graph_edit_distance\": [\n",
    "    {\n",
    "        \"sim_tree_num\": 0,\n",
    "        \"num_nodes_in_subtree\": 6,\n",
    "        \"num_uniq_nodes_in_subtree\": 4,\n",
    "        \"unique_node_dict\": {\n",
    "            \"Inverter\": 0,\n",
    "            \"Repeater\": 0,\n",
    "            \"LAT Sequence\": 0,\n",
    "            \"Sequence\": 1,\n",
    "            \"Parallel Selector\": 1,\n",
    "            \"Selector\": 0,\n",
    "            \"Parallel\": 0,\n",
    "            \"Action\": 3,\n",
    "            \"Condition\": 1\n",
    "        },\n",
    "        \"score\": 8.0\n",
    "    },\n",
    "    {\n",
    "        \"sim_tree_num\": 1,\n",
    "        \"num_nodes_in_subtree\": 3,\n",
    "        \"num_uniq_nodes_in_subtree\": 2,\n",
    "        \"unique_node_dict\": {\n",
    "            \"Inverter\": 0,\n",
    "            \"Repeater\": 0,\n",
    "            \"LAT Sequence\": 0,\n",
    "            \"Sequence\": 1,\n",
    "            \"Parallel Selector\": 0,\n",
    "            \"Selector\": 0,\n",
    "            \"Parallel\": 0,\n",
    "            \"Action\": 2,\n",
    "            \"Condition\": 0\n",
    "        },\n",
    "        \"score\": 1.0\n",
    "    },\n",
    "    {\n",
    "        \"sim_tree_num\": 2,\n",
    "        \"num_nodes_in_subtree\": 9,\n",
    "        \"num_uniq_nodes_in_subtree\": 5,\n",
    "        \"unique_node_dict\": {\n",
    "            \"Inverter\": 0,\n",
    "            \"Repeater\": 1,\n",
    "            \"LAT Sequence\": 0,\n",
    "            \"Sequence\": 0,\n",
    "            \"Parallel Selector\": 1,\n",
    "            \"Selector\": 1,\n",
    "            \"Parallel\": 0,\n",
    "            \"Action\": 3,\n",
    "            \"Condition\": 3\n",
    "        },\n",
    "        \"score\": 15.0\n",
    "    }\n",
    "]\n",
    "```"
   ]
  },
  {
   "cell_type": "code",
   "execution_count": 2,
   "id": "8da8ff43",
   "metadata": {},
   "outputs": [],
   "source": [
    "expr_num_key = \"expr_num\"\n",
    "unique_node_freq_key = \"unique_node_freq\"\n",
    "ged_key = \"graph_edit_distance\"\n",
    "is_gen_key = \"is_generated\"\n",
    "is_orig_key = \"is_original_bt_espresso\"\n",
    "score_key = \"score\"\n",
    "sim_tree_num_key = \"sim_tree_num\"\n",
    "score_diff_key = \"score_diff\"\n",
    "tot_nodes_key = \"total_nodes\""
   ]
  },
  {
   "cell_type": "code",
   "execution_count": 4,
   "id": "246bf5e2",
   "metadata": {},
   "outputs": [
    {
     "name": "stdout",
     "output_type": "stream",
     "text": [
      "[]\n"
     ]
    },
    {
     "ename": "ValueError",
     "evalue": "No objects to concatenate",
     "output_type": "error",
     "traceback": [
      "\u001b[0;31m---------------------------------------------------------------------------\u001b[0m",
      "\u001b[0;31mValueError\u001b[0m                                Traceback (most recent call last)",
      "Cell \u001b[0;32mIn[4], line 26\u001b[0m\n\u001b[1;32m     24\u001b[0m     results\u001b[38;5;241m.\u001b[39mappend(df)\n\u001b[1;32m     25\u001b[0m \u001b[38;5;28mprint\u001b[39m(results)\n\u001b[0;32m---> 26\u001b[0m f_df \u001b[38;5;241m=\u001b[39m pd\u001b[38;5;241m.\u001b[39mconcat(results, axis\u001b[38;5;241m=\u001b[39m\u001b[38;5;241m0\u001b[39m, ignore_index\u001b[38;5;241m=\u001b[39m\u001b[38;5;28;01mTrue\u001b[39;00m)\n\u001b[1;32m     27\u001b[0m s_df \u001b[38;5;241m=\u001b[39m pd\u001b[38;5;241m.\u001b[39mconcat(gen_trees, axis\u001b[38;5;241m=\u001b[39m\u001b[38;5;241m0\u001b[39m, ignore_index\u001b[38;5;241m=\u001b[39m\u001b[38;5;28;01mTrue\u001b[39;00m)\n",
      "File \u001b[0;32m~/anaconda3/envs/rl2bt/lib/python3.12/site-packages/pandas/core/reshape/concat.py:380\u001b[0m, in \u001b[0;36mconcat\u001b[0;34m(objs, axis, join, ignore_index, keys, levels, names, verify_integrity, sort, copy)\u001b[0m\n\u001b[1;32m    377\u001b[0m \u001b[38;5;28;01melif\u001b[39;00m copy \u001b[38;5;129;01mand\u001b[39;00m using_copy_on_write():\n\u001b[1;32m    378\u001b[0m     copy \u001b[38;5;241m=\u001b[39m \u001b[38;5;28;01mFalse\u001b[39;00m\n\u001b[0;32m--> 380\u001b[0m op \u001b[38;5;241m=\u001b[39m _Concatenator(\n\u001b[1;32m    381\u001b[0m     objs,\n\u001b[1;32m    382\u001b[0m     axis\u001b[38;5;241m=\u001b[39maxis,\n\u001b[1;32m    383\u001b[0m     ignore_index\u001b[38;5;241m=\u001b[39mignore_index,\n\u001b[1;32m    384\u001b[0m     join\u001b[38;5;241m=\u001b[39mjoin,\n\u001b[1;32m    385\u001b[0m     keys\u001b[38;5;241m=\u001b[39mkeys,\n\u001b[1;32m    386\u001b[0m     levels\u001b[38;5;241m=\u001b[39mlevels,\n\u001b[1;32m    387\u001b[0m     names\u001b[38;5;241m=\u001b[39mnames,\n\u001b[1;32m    388\u001b[0m     verify_integrity\u001b[38;5;241m=\u001b[39mverify_integrity,\n\u001b[1;32m    389\u001b[0m     copy\u001b[38;5;241m=\u001b[39mcopy,\n\u001b[1;32m    390\u001b[0m     sort\u001b[38;5;241m=\u001b[39msort,\n\u001b[1;32m    391\u001b[0m )\n\u001b[1;32m    393\u001b[0m \u001b[38;5;28;01mreturn\u001b[39;00m op\u001b[38;5;241m.\u001b[39mget_result()\n",
      "File \u001b[0;32m~/anaconda3/envs/rl2bt/lib/python3.12/site-packages/pandas/core/reshape/concat.py:443\u001b[0m, in \u001b[0;36m_Concatenator.__init__\u001b[0;34m(self, objs, axis, join, keys, levels, names, ignore_index, verify_integrity, copy, sort)\u001b[0m\n\u001b[1;32m    440\u001b[0m \u001b[38;5;28mself\u001b[39m\u001b[38;5;241m.\u001b[39mverify_integrity \u001b[38;5;241m=\u001b[39m verify_integrity\n\u001b[1;32m    441\u001b[0m \u001b[38;5;28mself\u001b[39m\u001b[38;5;241m.\u001b[39mcopy \u001b[38;5;241m=\u001b[39m copy\n\u001b[0;32m--> 443\u001b[0m objs, keys \u001b[38;5;241m=\u001b[39m \u001b[38;5;28mself\u001b[39m\u001b[38;5;241m.\u001b[39m_clean_keys_and_objs(objs, keys)\n\u001b[1;32m    445\u001b[0m \u001b[38;5;66;03m# figure out what our result ndim is going to be\u001b[39;00m\n\u001b[1;32m    446\u001b[0m ndims \u001b[38;5;241m=\u001b[39m \u001b[38;5;28mself\u001b[39m\u001b[38;5;241m.\u001b[39m_get_ndims(objs)\n",
      "File \u001b[0;32m~/anaconda3/envs/rl2bt/lib/python3.12/site-packages/pandas/core/reshape/concat.py:505\u001b[0m, in \u001b[0;36m_Concatenator._clean_keys_and_objs\u001b[0;34m(self, objs, keys)\u001b[0m\n\u001b[1;32m    502\u001b[0m     objs_list \u001b[38;5;241m=\u001b[39m \u001b[38;5;28mlist\u001b[39m(objs)\n\u001b[1;32m    504\u001b[0m \u001b[38;5;28;01mif\u001b[39;00m \u001b[38;5;28mlen\u001b[39m(objs_list) \u001b[38;5;241m==\u001b[39m \u001b[38;5;241m0\u001b[39m:\n\u001b[0;32m--> 505\u001b[0m     \u001b[38;5;28;01mraise\u001b[39;00m \u001b[38;5;167;01mValueError\u001b[39;00m(\u001b[38;5;124m\"\u001b[39m\u001b[38;5;124mNo objects to concatenate\u001b[39m\u001b[38;5;124m\"\u001b[39m)\n\u001b[1;32m    507\u001b[0m \u001b[38;5;28;01mif\u001b[39;00m keys \u001b[38;5;129;01mis\u001b[39;00m \u001b[38;5;28;01mNone\u001b[39;00m:\n\u001b[1;32m    508\u001b[0m     objs_list \u001b[38;5;241m=\u001b[39m \u001b[38;5;28mlist\u001b[39m(com\u001b[38;5;241m.\u001b[39mnot_none(\u001b[38;5;241m*\u001b[39mobjs_list))\n",
      "\u001b[0;31mValueError\u001b[0m: No objects to concatenate"
     ]
    }
   ],
   "source": [
    "def getNumFromExprFilename(filename):\n",
    "    numeric_filter = filter(str.isdigit, filename)\n",
    "    return \"\".join(numeric_filter)\n",
    "\n",
    "def expandDictCol(col_name):\n",
    "    return pd.concat([df.drop([col_name], axis=1), df[col_name].apply(pd.Series)], axis=1)\n",
    "\n",
    "results_path = \"/home/user/Documents/masters/ICRA2025/RE-BT-Espresso-Original/DataSim/configs/experiments/\"\n",
    "results = []\n",
    "gen_trees = []\n",
    "df = None\n",
    "p = None\n",
    "for filename in glob.glob(results_path + \"*.json\"):\n",
    "    expr_num = getNumFromExprFilename(filename)\n",
    "    df = pd.read_json(filename).T\n",
    "    df = expandDictCol(unique_node_freq_key)\n",
    "    p =  df[df[is_gen_key] == False]\n",
    "    p[expr_num_key] = expr_num\n",
    "    gen_trees.append(p)\n",
    "    df = df.drop(p.index)\n",
    "    df = df.explode(ged_key)\n",
    "    df = expandDictCol(ged_key)\n",
    "    df[expr_num_key] = expr_num\n",
    "    results.append(df)\n",
    "print(results)\n",
    "f_df = pd.concat(results, axis=0, ignore_index=True)\n",
    "s_df = pd.concat(gen_trees, axis=0, ignore_index=True)"
   ]
  },
  {
   "cell_type": "code",
   "execution_count": 15,
   "id": "920c47c2",
   "metadata": {},
   "outputs": [
    {
     "data": {
      "text/plain": [
       "1"
      ]
     },
     "execution_count": 15,
     "metadata": {},
     "output_type": "execute_result"
    }
   ],
   "source": [
    "len(s_df)"
   ]
  },
  {
   "cell_type": "code",
   "execution_count": 18,
   "id": "041bb3a4",
   "metadata": {},
   "outputs": [
    {
     "data": {
      "text/html": [
       "<div>\n",
       "<style scoped>\n",
       "    .dataframe tbody tr th:only-of-type {\n",
       "        vertical-align: middle;\n",
       "    }\n",
       "\n",
       "    .dataframe tbody tr th {\n",
       "        vertical-align: top;\n",
       "    }\n",
       "\n",
       "    .dataframe thead th {\n",
       "        text-align: right;\n",
       "    }\n",
       "</style>\n",
       "<table border=\"1\" class=\"dataframe\">\n",
       "  <thead>\n",
       "    <tr style=\"text-align: right;\">\n",
       "      <th></th>\n",
       "      <th>graph_edit_distance</th>\n",
       "      <th>is_generated</th>\n",
       "      <th>is_original_bt_espresso</th>\n",
       "      <th>num_sub_trees</th>\n",
       "      <th>num_unique_nodes</th>\n",
       "      <th>total_nodes</th>\n",
       "      <th>Inverter</th>\n",
       "      <th>Repeater</th>\n",
       "      <th>LAT Sequence</th>\n",
       "      <th>Sequence</th>\n",
       "      <th>Parallel Selector</th>\n",
       "      <th>Selector</th>\n",
       "      <th>Parallel</th>\n",
       "      <th>Action</th>\n",
       "      <th>Condition</th>\n",
       "      <th>expr_num</th>\n",
       "    </tr>\n",
       "  </thead>\n",
       "  <tbody>\n",
       "    <tr>\n",
       "      <th>0</th>\n",
       "      <td>0</td>\n",
       "      <td>False</td>\n",
       "      <td>False</td>\n",
       "      <td>3</td>\n",
       "      <td>5</td>\n",
       "      <td>21</td>\n",
       "      <td>4</td>\n",
       "      <td>0</td>\n",
       "      <td>0</td>\n",
       "      <td>4</td>\n",
       "      <td>2</td>\n",
       "      <td>0</td>\n",
       "      <td>0</td>\n",
       "      <td>6</td>\n",
       "      <td>5</td>\n",
       "      <td>202536</td>\n",
       "    </tr>\n",
       "  </tbody>\n",
       "</table>\n",
       "</div>"
      ],
      "text/plain": [
       "  graph_edit_distance is_generated is_original_bt_espresso num_sub_trees  \\\n",
       "0                   0        False                   False             3   \n",
       "\n",
       "  num_unique_nodes total_nodes  Inverter  Repeater  LAT Sequence  Sequence  \\\n",
       "0                5          21         4         0             0         4   \n",
       "\n",
       "   Parallel Selector  Selector  Parallel  Action  Condition expr_num  \n",
       "0                  2         0         0       6          5   202536  "
      ]
     },
     "execution_count": 18,
     "metadata": {},
     "output_type": "execute_result"
    }
   ],
   "source": [
    "s_df"
   ]
  },
  {
   "cell_type": "code",
   "execution_count": 16,
   "id": "e0346feb",
   "metadata": {},
   "outputs": [
    {
     "ename": "KeyError",
     "evalue": "'score'",
     "output_type": "error",
     "traceback": [
      "\u001b[0;31m---------------------------------------------------------------------------\u001b[0m",
      "\u001b[0;31mKeyError\u001b[0m                                  Traceback (most recent call last)",
      "File \u001b[0;32m~/anaconda3/envs/rl2bt/lib/python3.12/site-packages/pandas/core/indexes/base.py:3791\u001b[0m, in \u001b[0;36mIndex.get_loc\u001b[0;34m(self, key)\u001b[0m\n\u001b[1;32m   3790\u001b[0m \u001b[38;5;28;01mtry\u001b[39;00m:\n\u001b[0;32m-> 3791\u001b[0m     \u001b[38;5;28;01mreturn\u001b[39;00m \u001b[38;5;28mself\u001b[39m\u001b[38;5;241m.\u001b[39m_engine\u001b[38;5;241m.\u001b[39mget_loc(casted_key)\n\u001b[1;32m   3792\u001b[0m \u001b[38;5;28;01mexcept\u001b[39;00m \u001b[38;5;167;01mKeyError\u001b[39;00m \u001b[38;5;28;01mas\u001b[39;00m err:\n",
      "File \u001b[0;32mindex.pyx:152\u001b[0m, in \u001b[0;36mpandas._libs.index.IndexEngine.get_loc\u001b[0;34m()\u001b[0m\n",
      "File \u001b[0;32mindex.pyx:181\u001b[0m, in \u001b[0;36mpandas._libs.index.IndexEngine.get_loc\u001b[0;34m()\u001b[0m\n",
      "File \u001b[0;32mpandas/_libs/hashtable_class_helper.pxi:7080\u001b[0m, in \u001b[0;36mpandas._libs.hashtable.PyObjectHashTable.get_item\u001b[0;34m()\u001b[0m\n",
      "File \u001b[0;32mpandas/_libs/hashtable_class_helper.pxi:7088\u001b[0m, in \u001b[0;36mpandas._libs.hashtable.PyObjectHashTable.get_item\u001b[0;34m()\u001b[0m\n",
      "\u001b[0;31mKeyError\u001b[0m: 'score'",
      "\nThe above exception was the direct cause of the following exception:\n",
      "\u001b[0;31mKeyError\u001b[0m                                  Traceback (most recent call last)",
      "Cell \u001b[0;32mIn[16], line 1\u001b[0m\n\u001b[0;32m----> 1\u001b[0m valid_score \u001b[38;5;241m=\u001b[39m f_df[score_key] \u001b[38;5;241m>\u001b[39m\u001b[38;5;241m=\u001b[39m \u001b[38;5;241m0\u001b[39m\n",
      "File \u001b[0;32m~/anaconda3/envs/rl2bt/lib/python3.12/site-packages/pandas/core/frame.py:3893\u001b[0m, in \u001b[0;36mDataFrame.__getitem__\u001b[0;34m(self, key)\u001b[0m\n\u001b[1;32m   3891\u001b[0m \u001b[38;5;28;01mif\u001b[39;00m \u001b[38;5;28mself\u001b[39m\u001b[38;5;241m.\u001b[39mcolumns\u001b[38;5;241m.\u001b[39mnlevels \u001b[38;5;241m>\u001b[39m \u001b[38;5;241m1\u001b[39m:\n\u001b[1;32m   3892\u001b[0m     \u001b[38;5;28;01mreturn\u001b[39;00m \u001b[38;5;28mself\u001b[39m\u001b[38;5;241m.\u001b[39m_getitem_multilevel(key)\n\u001b[0;32m-> 3893\u001b[0m indexer \u001b[38;5;241m=\u001b[39m \u001b[38;5;28mself\u001b[39m\u001b[38;5;241m.\u001b[39mcolumns\u001b[38;5;241m.\u001b[39mget_loc(key)\n\u001b[1;32m   3894\u001b[0m \u001b[38;5;28;01mif\u001b[39;00m is_integer(indexer):\n\u001b[1;32m   3895\u001b[0m     indexer \u001b[38;5;241m=\u001b[39m [indexer]\n",
      "File \u001b[0;32m~/anaconda3/envs/rl2bt/lib/python3.12/site-packages/pandas/core/indexes/base.py:3798\u001b[0m, in \u001b[0;36mIndex.get_loc\u001b[0;34m(self, key)\u001b[0m\n\u001b[1;32m   3793\u001b[0m     \u001b[38;5;28;01mif\u001b[39;00m \u001b[38;5;28misinstance\u001b[39m(casted_key, \u001b[38;5;28mslice\u001b[39m) \u001b[38;5;129;01mor\u001b[39;00m (\n\u001b[1;32m   3794\u001b[0m         \u001b[38;5;28misinstance\u001b[39m(casted_key, abc\u001b[38;5;241m.\u001b[39mIterable)\n\u001b[1;32m   3795\u001b[0m         \u001b[38;5;129;01mand\u001b[39;00m \u001b[38;5;28many\u001b[39m(\u001b[38;5;28misinstance\u001b[39m(x, \u001b[38;5;28mslice\u001b[39m) \u001b[38;5;28;01mfor\u001b[39;00m x \u001b[38;5;129;01min\u001b[39;00m casted_key)\n\u001b[1;32m   3796\u001b[0m     ):\n\u001b[1;32m   3797\u001b[0m         \u001b[38;5;28;01mraise\u001b[39;00m InvalidIndexError(key)\n\u001b[0;32m-> 3798\u001b[0m     \u001b[38;5;28;01mraise\u001b[39;00m \u001b[38;5;167;01mKeyError\u001b[39;00m(key) \u001b[38;5;28;01mfrom\u001b[39;00m \u001b[38;5;21;01merr\u001b[39;00m\n\u001b[1;32m   3799\u001b[0m \u001b[38;5;28;01mexcept\u001b[39;00m \u001b[38;5;167;01mTypeError\u001b[39;00m:\n\u001b[1;32m   3800\u001b[0m     \u001b[38;5;66;03m# If we have a listlike key, _check_indexing_error will raise\u001b[39;00m\n\u001b[1;32m   3801\u001b[0m     \u001b[38;5;66;03m#  InvalidIndexError. Otherwise we fall through and re-raise\u001b[39;00m\n\u001b[1;32m   3802\u001b[0m     \u001b[38;5;66;03m#  the TypeError.\u001b[39;00m\n\u001b[1;32m   3803\u001b[0m     \u001b[38;5;28mself\u001b[39m\u001b[38;5;241m.\u001b[39m_check_indexing_error(key)\n",
      "\u001b[0;31mKeyError\u001b[0m: 'score'"
     ]
    }
   ],
   "source": [
    "valid_score = f_df[score_key] >= 0"
   ]
  },
  {
   "cell_type": "code",
   "execution_count": 21,
   "id": "d4379aea",
   "metadata": {},
   "outputs": [
    {
     "ename": "NameError",
     "evalue": "name 'valid_score' is not defined",
     "output_type": "error",
     "traceback": [
      "\u001b[0;31m---------------------------------------------------------------------------\u001b[0m",
      "\u001b[0;31mNameError\u001b[0m                                 Traceback (most recent call last)",
      "Cell \u001b[0;32mIn[21], line 20\u001b[0m\n\u001b[1;32m     17\u001b[0m \u001b[38;5;28;01mfrom\u001b[39;00m \u001b[38;5;21;01mmatplotlib\u001b[39;00m\u001b[38;5;21;01m.\u001b[39;00m\u001b[38;5;21;01mpyplot\u001b[39;00m \u001b[38;5;28;01mimport\u001b[39;00m figure\n\u001b[1;32m     19\u001b[0m figure(figsize\u001b[38;5;241m=\u001b[39m(\u001b[38;5;241m18\u001b[39m, \u001b[38;5;241m20\u001b[39m), dpi\u001b[38;5;241m=\u001b[39m\u001b[38;5;241m300\u001b[39m)\n\u001b[0;32m---> 20\u001b[0m tmp_m \u001b[38;5;241m=\u001b[39m f_df[valid_score]\u001b[38;5;241m.\u001b[39mgroupby([expr_num_key, is_orig_key, sim_tree_num_key])[\u001b[38;5;124m\"\u001b[39m\u001b[38;5;124mscore\u001b[39m\u001b[38;5;124m\"\u001b[39m]\n\u001b[1;32m     21\u001b[0m plt\u001b[38;5;241m.\u001b[39mclf()\n\u001b[1;32m     22\u001b[0m fig, axes \u001b[38;5;241m=\u001b[39m plt\u001b[38;5;241m.\u001b[39msubplots(\u001b[38;5;241m1\u001b[39m,\u001b[38;5;241m2\u001b[39m)\n",
      "\u001b[0;31mNameError\u001b[0m: name 'valid_score' is not defined"
     ]
    },
    {
     "data": {
      "text/plain": [
       "<Figure size 5400x6000 with 0 Axes>"
      ]
     },
     "metadata": {},
     "output_type": "display_data"
    }
   ],
   "source": [
    "def makehm(index, axes, scored_df, is_discrete, new_title, fig):\n",
    "    tmp_m = scored_df.unstack(level=1)\n",
    "    # True = BT-Espresso\n",
    "    # False = RE:BT-Espresso\n",
    "    min_r = tmp_m[True] - tmp_m[False]\n",
    "    min_r = min_r.reset_index()\n",
    "    min_r = min_r.rename(columns={0 : score_diff_key})\n",
    "    fminr = min_r[min_r[score_diff_key].round() != 0].round()\n",
    "    ax3 = sns.histplot(fminr, x=score_diff_key, discrete=is_discrete, ax=axes[index])\n",
    "    ax3.axvline(linewidth=2, color='#000000', linestyle='--')\n",
    "    ax3.set_xlabel(new_title + r\" $\\Delta(GED_{BTE}, GED_{RE:BTE})$\")\n",
    "    if index != 0:\n",
    "        ax3.set_ylabel(\"\")\n",
    "    #ax3.set_title(r\"Difference in \" + new_title +  r\" GED Score $\\forall$ Subtrees\")\n",
    "\n",
    "\n",
    "from matplotlib.pyplot import figure\n",
    "\n",
    "figure(figsize=(18, 20), dpi=300)\n",
    "tmp_m = f_df[valid_score].groupby([expr_num_key, is_orig_key, sim_tree_num_key])[\"score\"]\n",
    "plt.clf()\n",
    "fig, axes = plt.subplots(1,2)\n",
    "makehm(0, axes, tmp_m.min(), True, \"Min\", fig)\n",
    "makehm(1, axes, tmp_m.median(), True, \"Median\", fig)\n",
    "fig.suptitle(r\"GED Score $\\Delta$s $\\forall$ Subtrees Where $\\Delta$ != 0\", fontsize=18)\n",
    "fig.show()\n"
   ]
  },
  {
   "cell_type": "code",
   "execution_count": null,
   "id": "bfd1fb31",
   "metadata": {},
   "outputs": [],
   "source": []
  }
 ],
 "metadata": {
  "interpreter": {
   "hash": "916dbcbb3f70747c44a77c7bcd40155683ae19c65e1c03b4aa3499c5328201f1"
  },
  "kernelspec": {
   "display_name": "rl2bt",
   "language": "python",
   "name": "rl2bt"
  },
  "language_info": {
   "codemirror_mode": {
    "name": "ipython",
    "version": 3
   },
   "file_extension": ".py",
   "mimetype": "text/x-python",
   "name": "python",
   "nbconvert_exporter": "python",
   "pygments_lexer": "ipython3",
   "version": "3.12.2"
  }
 },
 "nbformat": 4,
 "nbformat_minor": 5
}
